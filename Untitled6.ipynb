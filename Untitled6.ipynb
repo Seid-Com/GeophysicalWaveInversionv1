{
 "cells": [
  {
   "cell_type": "code",
   "execution_count": 11,
   "id": "b63c4381-8b80-486c-90b2-d210cd3c2cec",
   "metadata": {},
   "outputs": [
    {
     "name": "stdout",
     "output_type": "stream",
     "text": [
      "=== Jupyter FWI Submission Test ===\n",
      "\n",
      "Using test files: ['000030dca2', '000031dca3', '000032dca4', '000033dca5', '000034dca6']\n",
      "\n",
      "Creating sample velocity predictions...\n",
      "  Created prediction for 000030dca2: shape (70, 70)\n",
      "  Created prediction for 000031dca3: shape (70, 70)\n",
      "  Created prediction for 000032dca4: shape (70, 70)\n",
      "  Created prediction for 000033dca5: shape (70, 70)\n",
      "  Created prediction for 000034dca6: shape (70, 70)\n",
      "\n",
      "Generated 5 predictions\n",
      "\n",
      "Creating Kaggle submission...\n",
      "Processing 5 files -> 350 rows...\n",
      "Processed 5/5 files (100.0%)\n",
      "Combining chunks...\n",
      "Sorting rows...\n",
      "Validating format...\n",
      "Saving to jupyter_test_submission.csv...\n",
      "Submission saved to jupyter_test_submission.csv\n",
      "Submission shape: (350, 36)\n",
      "Files included: 5\n",
      "File size: 0.2 MB\n",
      "\n",
      "=== Submission Statistics ===\n",
      "Shape: (350, 36)\n",
      "Columns: ['oid_ypos', 'x_1', 'x_3', 'x_5', 'x_7', 'x_9', 'x_11', 'x_13', 'x_15', 'x_17', 'x_19', 'x_21', 'x_23', 'x_25', 'x_27', 'x_29', 'x_31', 'x_33', 'x_35', 'x_37', 'x_39', 'x_41', 'x_43', 'x_45', 'x_47', 'x_49', 'x_51', 'x_53', 'x_55', 'x_57', 'x_59', 'x_61', 'x_63', 'x_65', 'x_67', 'x_69']\n",
      "Files: 5\n",
      "\n",
      "Validation:\n",
      "  Valid: True\n",
      "  MAE Ready: True\n",
      "\n",
      "=== First 5 Rows ===\n",
      "          oid_ypos          x_1  ...         x_67         x_69\n",
      "0   000030dca2_y_0  2748.127450  ...  3019.046443  2865.019421\n",
      "1   000030dca2_y_1  3670.011694  ...  2343.287158  4110.273026\n",
      "2  000030dca2_y_10  3575.764599  ...  2455.593168  2009.738214\n",
      "3  000030dca2_y_11  2123.197704  ...  2341.594976  3278.192044\n",
      "4  000030dca2_y_12  2888.052843  ...  3013.986673  3186.228721\n",
      "\n",
      "[5 rows x 36 columns]\n",
      "\n",
      "[SUCCESS] Submission saved as 'jupyter_test_submission.csv'\n",
      "File size: 227.0 KB\n"
     ]
    }
   ],
   "source": [
    "!python jupyter_submission_test.py"
   ]
  },
  {
   "cell_type": "code",
   "execution_count": 3,
   "id": "301117b7-3520-482d-83c7-20e837c13086",
   "metadata": {},
   "outputs": [
    {
     "name": "stdout",
     "output_type": "stream",
     "text": [
      "Total rows: 3,500,000\n",
      "Memory needed: 1101.5 MB\n",
      "File size: 2753.7 MB\n"
     ]
    }
   ],
   "source": [
    "from utils.large_dataset_utils import LargeDatasetProcessor\n",
    "\n",
    "processor = LargeDatasetProcessor()\n",
    "estimates = processor.estimate_memory_usage(num_files=50000)\n",
    "\n",
    "print(f\"Total rows: {estimates['total_rows']:,}\")\n",
    "print(f\"Memory needed: {estimates['estimated_memory_mb']:.1f} MB\")\n",
    "print(f\"File size: {estimates['estimated_csv_size_mb']:.1f} MB\")"
   ]
  },
  {
   "cell_type": "code",
   "execution_count": 5,
   "id": "914e252f-3ab9-4b93-b702-a3f9973645dc",
   "metadata": {},
   "outputs": [
    {
     "ename": "NameError",
     "evalue": "name 'KaggleSubmissionGenerator' is not defined",
     "output_type": "error",
     "traceback": [
      "\u001b[1;31m---------------------------------------------------------------------------\u001b[0m",
      "\u001b[1;31mNameError\u001b[0m                                 Traceback (most recent call last)",
      "Cell \u001b[1;32mIn[5], line 1\u001b[0m\n\u001b[1;32m----> 1\u001b[0m kaggle_gen \u001b[38;5;241m=\u001b[39m KaggleSubmissionGenerator()\n",
      "\u001b[1;31mNameError\u001b[0m: name 'KaggleSubmissionGenerator' is not defined"
     ]
    }
   ],
   "source": [
    "kaggle_gen = KaggleSubmissionGenerator()"
   ]
  },
  {
   "cell_type": "code",
   "execution_count": 7,
   "id": "84213ee2-884d-4c67-aca3-7d7fc63a119f",
   "metadata": {},
   "outputs": [
    {
     "ename": "NameError",
     "evalue": "name 'test_files' is not defined",
     "output_type": "error",
     "traceback": [
      "\u001b[1;31m---------------------------------------------------------------------------\u001b[0m",
      "\u001b[1;31mNameError\u001b[0m                                 Traceback (most recent call last)",
      "Cell \u001b[1;32mIn[7], line 2\u001b[0m\n\u001b[0;32m      1\u001b[0m predictions \u001b[38;5;241m=\u001b[39m {}\n\u001b[1;32m----> 2\u001b[0m \u001b[38;5;28;01mfor\u001b[39;00m file_id \u001b[38;5;129;01min\u001b[39;00m test_files:\n\u001b[0;32m      3\u001b[0m     \u001b[38;5;66;03m# Your model prediction here (70x70 velocity map)\u001b[39;00m\n\u001b[0;32m      4\u001b[0m     velocity_map \u001b[38;5;241m=\u001b[39m your_model\u001b[38;5;241m.\u001b[39mpredict(test_data)\n\u001b[0;32m      5\u001b[0m     predictions[file_id] \u001b[38;5;241m=\u001b[39m velocity_map\n",
      "\u001b[1;31mNameError\u001b[0m: name 'test_files' is not defined"
     ]
    }
   ],
   "source": [
    "predictions = {}\n",
    "for file_id in test_files:\n",
    "    # Your model prediction here (70x70 velocity map)\n",
    "    velocity_map = your_model.predict(test_data)\n",
    "    predictions[file_id] = velocity_map"
   ]
  },
  {
   "cell_type": "code",
   "execution_count": 9,
   "id": "94602be1-925f-461d-a87e-0baa9d24cdc0",
   "metadata": {},
   "outputs": [
    {
     "ename": "NameError",
     "evalue": "name 'kaggle_gen' is not defined",
     "output_type": "error",
     "traceback": [
      "\u001b[1;31m---------------------------------------------------------------------------\u001b[0m",
      "\u001b[1;31mNameError\u001b[0m                                 Traceback (most recent call last)",
      "Cell \u001b[1;32mIn[9], line 1\u001b[0m\n\u001b[1;32m----> 1\u001b[0m submission_df \u001b[38;5;241m=\u001b[39m kaggle_gen\u001b[38;5;241m.\u001b[39mcreate_submission_from_predictions(\n\u001b[0;32m      2\u001b[0m     predictions\u001b[38;5;241m=\u001b[39mpredictions,\n\u001b[0;32m      3\u001b[0m     output_path\u001b[38;5;241m=\u001b[39m\u001b[38;5;124m\"\u001b[39m\u001b[38;5;124mmy_submission.csv\u001b[39m\u001b[38;5;124m\"\u001b[39m\n\u001b[0;32m      4\u001b[0m )\n",
      "\u001b[1;31mNameError\u001b[0m: name 'kaggle_gen' is not defined"
     ]
    }
   ],
   "source": [
    "submission_df = kaggle_gen.create_submission_from_predictions(\n",
    "    predictions=predictions,\n",
    "    output_path=\"my_submission.csv\"\n",
    ")"
   ]
  },
  {
   "cell_type": "code",
   "execution_count": null,
   "id": "ea4707a7-3a92-429c-8b1a-cbd91db18aba",
   "metadata": {},
   "outputs": [],
   "source": []
  }
 ],
 "metadata": {
  "kernelspec": {
   "display_name": "Python 3 (ipykernel)",
   "language": "python",
   "name": "python3"
  },
  "language_info": {
   "codemirror_mode": {
    "name": "ipython",
    "version": 3
   },
   "file_extension": ".py",
   "mimetype": "text/x-python",
   "name": "python",
   "nbconvert_exporter": "python",
   "pygments_lexer": "ipython3",
   "version": "3.12.4"
  }
 },
 "nbformat": 4,
 "nbformat_minor": 5
}
