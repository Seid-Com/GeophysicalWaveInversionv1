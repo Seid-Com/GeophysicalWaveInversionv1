{
 "cells": [
  {
   "cell_type": "code",
   "execution_count": 1,
   "id": "641bde8a-acfe-403c-b788-8fbb920e2640",
   "metadata": {},
   "outputs": [
    {
     "ename": "SyntaxError",
     "evalue": "invalid syntax (3328315900.py, line 1)",
     "output_type": "error",
     "traceback": [
      "\u001b[1;36m  Cell \u001b[1;32mIn[1], line 1\u001b[1;36m\u001b[0m\n\u001b[1;33m    python submission_example.py\u001b[0m\n\u001b[1;37m           ^\u001b[0m\n\u001b[1;31mSyntaxError\u001b[0m\u001b[1;31m:\u001b[0m invalid syntax\n"
     ]
    }
   ],
   "source": [
    "python submission_example.py"
   ]
  },
  {
   "cell_type": "code",
   "execution_count": 3,
   "id": "007832d7-8525-4ebc-af57-d7d16506a64b",
   "metadata": {},
   "outputs": [
    {
     "name": "stdout",
     "output_type": "stream",
     "text": [
      "=== FWI Kaggle Submission Example ===\n",
      "\n",
      "Found 0 test files: []\n",
      "\n",
      "Initializing physics-guided FWI model...\n",
      "Generating predictions...\n",
      "\n",
      "Generated predictions for 0 files\n",
      "Using standard method for 0 files\n",
      "Creating Kaggle submission file...\n",
      "Processing 0 files -> 0 rows...\n",
      "Combining chunks...\n"
     ]
    },
    {
     "name": "stderr",
     "output_type": "stream",
     "text": [
      "Traceback (most recent call last):\n",
      "  File \"C:\\Users\\Kasish\\Documents\\GeophysicalWaveInversion\\submission_example.py\", line 153, in <module>\n",
      "    create_submission_example()\n",
      "  File \"C:\\Users\\Kasish\\Documents\\GeophysicalWaveInversion\\submission_example.py\", line 90, in create_submission_example\n",
      "    submission_df = kaggle_gen.create_submission_from_predictions(\n",
      "                    ^^^^^^^^^^^^^^^^^^^^^^^^^^^^^^^^^^^^^^^^^^^^^^\n",
      "  File \"C:\\Users\\Kasish\\Documents\\GeophysicalWaveInversion\\utils\\kaggle_submission.py\", line 80, in create_submission_from_predictions\n",
      "    submission_df = pd.concat(chunk_dfs, ignore_index=True)\n",
      "                    ^^^^^^^^^^^^^^^^^^^^^^^^^^^^^^^^^^^^^^^\n",
      "  File \"C:\\ProgramData\\anaconda3\\Lib\\site-packages\\pandas\\core\\reshape\\concat.py\", line 382, in concat\n",
      "    op = _Concatenator(\n",
      "         ^^^^^^^^^^^^^^\n",
      "  File \"C:\\ProgramData\\anaconda3\\Lib\\site-packages\\pandas\\core\\reshape\\concat.py\", line 445, in __init__\n",
      "    objs, keys = self._clean_keys_and_objs(objs, keys)\n",
      "                 ^^^^^^^^^^^^^^^^^^^^^^^^^^^^^^^^^^^^^\n",
      "  File \"C:\\ProgramData\\anaconda3\\Lib\\site-packages\\pandas\\core\\reshape\\concat.py\", line 507, in _clean_keys_and_objs\n",
      "    raise ValueError(\"No objects to concatenate\")\n",
      "ValueError: No objects to concatenate\n"
     ]
    }
   ],
   "source": [
    "!python submission_example.py"
   ]
  },
  {
   "cell_type": "code",
   "execution_count": 7,
   "id": "5702ce7b-0c2a-4b7f-8a08-bc2313b8df01",
   "metadata": {},
   "outputs": [
    {
     "name": "stdout",
     "output_type": "stream",
     "text": [
      "=== Jupyter FWI Submission Test ===\n",
      "\n",
      "Using test files: ['000030dca2', '000031dca3', '000032dca4', '000033dca5', '000034dca6']\n",
      "\n",
      "Creating sample velocity predictions...\n",
      "  Created prediction for 000030dca2: shape (70, 70)\n",
      "  Created prediction for 000031dca3: shape (70, 70)\n",
      "  Created prediction for 000032dca4: shape (70, 70)\n",
      "  Created prediction for 000033dca5: shape (70, 70)\n",
      "  Created prediction for 000034dca6: shape (70, 70)\n",
      "\n",
      "Generated 5 predictions\n",
      "\n",
      "Creating Kaggle submission...\n",
      "Processing 5 files -> 350 rows...\n",
      "Processed 5/5 files (100.0%)\n",
      "Combining chunks...\n",
      "Sorting rows...\n",
      "Validating format...\n",
      "Saving to jupyter_test_submission.csv...\n",
      "Submission saved to jupyter_test_submission.csv\n",
      "Submission shape: (350, 36)\n",
      "Files included: 5\n",
      "File size: 0.2 MB\n",
      "\n",
      "=== Submission Statistics ===\n",
      "Shape: (350, 36)\n",
      "Columns: ['oid_ypos', 'x_1', 'x_3', 'x_5', 'x_7', 'x_9', 'x_11', 'x_13', 'x_15', 'x_17', 'x_19', 'x_21', 'x_23', 'x_25', 'x_27', 'x_29', 'x_31', 'x_33', 'x_35', 'x_37', 'x_39', 'x_41', 'x_43', 'x_45', 'x_47', 'x_49', 'x_51', 'x_53', 'x_55', 'x_57', 'x_59', 'x_61', 'x_63', 'x_65', 'x_67', 'x_69']\n",
      "Files: 5\n",
      "\n",
      "Validation:\n",
      "  Valid: True\n",
      "  MAE Ready: True\n",
      "\n",
      "=== First 5 Rows ===\n",
      "          oid_ypos          x_1  ...         x_67         x_69\n",
      "0   000030dca2_y_0  3528.561836  ...  1929.629214  2362.508274\n",
      "1   000030dca2_y_1  3022.096490  ...  2327.522221  2992.707978\n",
      "2  000030dca2_y_10  3224.300857  ...  4009.472056  4030.311314\n",
      "3  000030dca2_y_11  2984.753790  ...  2889.566292  2787.587844\n",
      "4  000030dca2_y_12  3736.244041  ...  3392.098442  2820.477900\n",
      "\n",
      "[5 rows x 36 columns]\n"
     ]
    },
    {
     "name": "stderr",
     "output_type": "stream",
     "text": [
      "Traceback (most recent call last):\n",
      "  File \"C:\\Users\\Kasish\\Documents\\GeophysicalWaveInversion\\jupyter_submission_test.py\", line 78, in create_jupyter_submission_test\n",
      "    print(f\"\\n\\u2705 Success! Submission saved as 'jupyter_test_submission.csv'\")\n",
      "  File \"C:\\ProgramData\\anaconda3\\Lib\\encodings\\cp1252.py\", line 19, in encode\n",
      "    return codecs.charmap_encode(input,self.errors,encoding_table)[0]\n",
      "           ^^^^^^^^^^^^^^^^^^^^^^^^^^^^^^^^^^^^^^^^^^^^^^^^^^^^^^^\n",
      "UnicodeEncodeError: 'charmap' codec can't encode character '\\u2705' in position 2: character maps to <undefined>\n",
      "\n",
      "During handling of the above exception, another exception occurred:\n",
      "\n",
      "Traceback (most recent call last):\n",
      "  File \"C:\\Users\\Kasish\\Documents\\GeophysicalWaveInversion\\jupyter_submission_test.py\", line 121, in <module>\n",
      "    result = create_jupyter_submission_test()\n",
      "             ^^^^^^^^^^^^^^^^^^^^^^^^^^^^^^^^\n",
      "  File \"C:\\Users\\Kasish\\Documents\\GeophysicalWaveInversion\\jupyter_submission_test.py\", line 84, in create_jupyter_submission_test\n",
      "    print(f\"\\u274c Error creating submission: {e}\")\n",
      "  File \"C:\\ProgramData\\anaconda3\\Lib\\encodings\\cp1252.py\", line 19, in encode\n",
      "    return codecs.charmap_encode(input,self.errors,encoding_table)[0]\n",
      "           ^^^^^^^^^^^^^^^^^^^^^^^^^^^^^^^^^^^^^^^^^^^^^^^^^^^^^^^\n",
      "UnicodeEncodeError: 'charmap' codec can't encode character '\\u274c' in position 0: character maps to <undefined>\n"
     ]
    }
   ],
   "source": [
    "!python jupyter_submission_test.py"
   ]
  },
  {
   "cell_type": "code",
   "execution_count": 12,
   "id": "f694d8f0-c7f2-47f3-b422-3f3ae22c2d00",
   "metadata": {},
   "outputs": [
    {
     "name": "stdout",
     "output_type": "stream",
     "text": [
      "=== Jupyter FWI Submission Test ===\n",
      "\n",
      "Using test files: ['000030dca2', '000031dca3', '000032dca4', '000033dca5', '000034dca6']\n",
      "\n",
      "Creating sample velocity predictions...\n",
      "  Created prediction for 000030dca2: shape (70, 70)\n",
      "  Created prediction for 000031dca3: shape (70, 70)\n",
      "  Created prediction for 000032dca4: shape (70, 70)\n",
      "  Created prediction for 000033dca5: shape (70, 70)\n",
      "  Created prediction for 000034dca6: shape (70, 70)\n",
      "\n",
      "Generated 5 predictions\n",
      "\n",
      "Creating Kaggle submission...\n",
      "Processing 5 files -> 350 rows...\n",
      "Processed 5/5 files (100.0%)\n",
      "Combining chunks...\n",
      "Sorting rows...\n",
      "Validating format...\n",
      "Saving to jupyter_test_submission.csv...\n",
      "Submission saved to jupyter_test_submission.csv\n",
      "Submission shape: (350, 36)\n",
      "Files included: 5\n",
      "File size: 0.2 MB\n",
      "\n",
      "=== Submission Statistics ===\n",
      "Shape: (350, 36)\n",
      "Columns: ['oid_ypos', 'x_1', 'x_3', 'x_5', 'x_7', 'x_9', 'x_11', 'x_13', 'x_15', 'x_17', 'x_19', 'x_21', 'x_23', 'x_25', 'x_27', 'x_29', 'x_31', 'x_33', 'x_35', 'x_37', 'x_39', 'x_41', 'x_43', 'x_45', 'x_47', 'x_49', 'x_51', 'x_53', 'x_55', 'x_57', 'x_59', 'x_61', 'x_63', 'x_65', 'x_67', 'x_69']\n",
      "Files: 5\n",
      "\n",
      "Validation:\n",
      "  Valid: True\n",
      "  MAE Ready: True\n",
      "\n",
      "=== First 5 Rows ===\n",
      "          oid_ypos          x_1  ...         x_67         x_69\n",
      "0   000030dca2_y_0  3340.466087  ...  2554.572398  3442.292944\n",
      "1   000030dca2_y_1  3257.411436  ...  3250.967649  2850.277174\n",
      "2  000030dca2_y_10  2902.678411  ...  2927.042448  3077.771792\n",
      "3  000030dca2_y_11  3176.047823  ...  3305.749047  2518.094118\n",
      "4  000030dca2_y_12  2335.605250  ...  4275.901395  3122.721278\n",
      "\n",
      "[5 rows x 36 columns]\n"
     ]
    },
    {
     "name": "stderr",
     "output_type": "stream",
     "text": [
      "Traceback (most recent call last):\n",
      "  File \"C:\\Users\\Kasish\\Documents\\GeophysicalWaveInversion\\jupyter_submission_test.py\", line 78, in create_jupyter_submission_test\n",
      "    print(f\"\\n\\u2705 Success! Submission saved as 'jupyter_test_submission.csv'\")\n",
      "  File \"C:\\ProgramData\\anaconda3\\Lib\\encodings\\cp1252.py\", line 19, in encode\n",
      "    return codecs.charmap_encode(input,self.errors,encoding_table)[0]\n",
      "           ^^^^^^^^^^^^^^^^^^^^^^^^^^^^^^^^^^^^^^^^^^^^^^^^^^^^^^^\n",
      "UnicodeEncodeError: 'charmap' codec can't encode character '\\u2705' in position 2: character maps to <undefined>\n",
      "\n",
      "During handling of the above exception, another exception occurred:\n",
      "\n",
      "Traceback (most recent call last):\n",
      "  File \"C:\\Users\\Kasish\\Documents\\GeophysicalWaveInversion\\jupyter_submission_test.py\", line 121, in <module>\n",
      "    result = create_jupyter_submission_test()\n",
      "             ^^^^^^^^^^^^^^^^^^^^^^^^^^^^^^^^\n",
      "  File \"C:\\Users\\Kasish\\Documents\\GeophysicalWaveInversion\\jupyter_submission_test.py\", line 84, in create_jupyter_submission_test\n",
      "    print(f\"\\u274c Error creating submission: {e}\")\n",
      "  File \"C:\\ProgramData\\anaconda3\\Lib\\encodings\\cp1252.py\", line 19, in encode\n",
      "    return codecs.charmap_encode(input,self.errors,encoding_table)[0]\n",
      "           ^^^^^^^^^^^^^^^^^^^^^^^^^^^^^^^^^^^^^^^^^^^^^^^^^^^^^^^\n",
      "UnicodeEncodeError: 'charmap' codec can't encode character '\\u274c' in position 0: character maps to <undefined>\n"
     ]
    }
   ],
   "source": [
    "!python jupyter_submission_test.py"
   ]
  },
  {
   "cell_type": "code",
   "execution_count": null,
   "id": "7bfce6d2-910a-415e-8cc4-f9d631a8a78d",
   "metadata": {},
   "outputs": [],
   "source": []
  }
 ],
 "metadata": {
  "kernelspec": {
   "display_name": "Python 3 (ipykernel)",
   "language": "python",
   "name": "python3"
  },
  "language_info": {
   "codemirror_mode": {
    "name": "ipython",
    "version": 3
   },
   "file_extension": ".py",
   "mimetype": "text/x-python",
   "name": "python",
   "nbconvert_exporter": "python",
   "pygments_lexer": "ipython3",
   "version": "3.12.4"
  }
 },
 "nbformat": 4,
 "nbformat_minor": 5
}
